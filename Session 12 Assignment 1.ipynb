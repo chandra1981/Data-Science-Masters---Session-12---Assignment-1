{
 "cells": [
  {
   "cell_type": "markdown",
   "metadata": {},
   "source": [
    "Problem Statement\n",
    "Read the following data set:\n",
    "https://archive.ics.uci.edu/ml/machine-learning-databases/adult/\n",
    "Rename the columns as per the description from this file:\n",
    "https://archive.ics.uci.edu/ml/machine-learning-databases/adult/adult.names\n",
    "Task:\n",
    "Create a sql db from adult dataset and name it sqladb\n",
    "1. Select 10 records from the adult sqladb\n",
    "2. Show me the average hours per week of all men who are working in private sector\n",
    "3. Show me the frequency table for education, occupation and relationship, separately\n",
    "4. Are there any people who are married, working in private sector and having a masters degree\n",
    "5. What is the average, minimum and maximum age group for people working in different sectors\n",
    "6. Calculate age distribution by country\n",
    "7. Compute a new column as 'Net-Capital-Gain' from the two columns 'capital-gain' and 'capital-loss'"
   ]
  },
  {
   "cell_type": "code",
   "execution_count": 1,
   "metadata": {},
   "outputs": [],
   "source": [
    "import numpy as np\n",
    "import pandas as pd\n",
    "from pandas import DataFrame, Series\n",
    "import sqlite3 as db"
   ]
  },
  {
   "cell_type": "code",
   "execution_count": 2,
   "metadata": {},
   "outputs": [],
   "source": [
    "target_url = 'https://archive.ics.uci.edu/ml/machine-learning-databases/adult/adult.data'\n",
    "from urllib.request import urlopen\n",
    "data = urlopen(target_url)"
   ]
  },
  {
   "cell_type": "code",
   "execution_count": 3,
   "metadata": {},
   "outputs": [
    {
     "data": {
      "text/plain": [
       "b'39, State-gov, 77516, Bachelors, 13, Never-married, Adm-clerical, Not-in-family, White, Male, 2174, 0, 40, United-States, <=50K\\n50, Self-emp-not-inc, 83311, Bachelors, 13, Married-civ-spouse, Exec-managerial, Husband, White, Male, 0, 0, 13, United-States, <=50K\\n38, Private, 215646, HS-grad, 9, Divorced, Handlers-cleaners, Not-in-family, White, Male, 0, 0, 40, United-States, <=50K\\n53, Private, 234721, 11th, 7, Married-civ-spouse, Handlers-cleaners, Husband, Black, Male, 0, 0, 40, United-States, <=50K\\n28, Private, 338409, Bachelors, 13, Married-civ-spouse, Prof-specialty, Wife, Black, Female, 0, 0, 40, Cuba, <=50K\\n37, Private, 284582, Masters, 14, Married-civ-spouse, Exec-managerial, Wife, White, Female, 0, 0, 40, United-States, <=50K\\n49, Private, 160187, 9th, 5, Married-spouse-absent, Other-service, Not-in-family, Black, Female, 0, 0, 16, Jamaica, <=50K\\n52, Self-emp-not-inc, 209642, HS-grad, 9, Married-civ-spouse, Exec-managerial, Husband, White, Male, 0, 0, 45, United-States, >50K\\n31, '"
      ]
     },
     "execution_count": 3,
     "metadata": {},
     "output_type": "execute_result"
    }
   ],
   "source": [
    "data.read(1000)"
   ]
  },
  {
   "cell_type": "code",
   "execution_count": null,
   "metadata": {},
   "outputs": [],
   "source": [
    "import mysql.connector\n",
    "#Provide {userName} and {passWord} for your Mysql client connection\n",
    "db = mysql.connector.connect(\n",
    "host=\"localhost:3306\",\n",
    "user=\"root\",\n",
    "passwd=\"Diksha12#\"\n",
    ")\n",
    "\n",
    "#cursor is used to execute sql Queries\n",
    "cursor = mydb.cursor()\n",
    "\n",
    "#Create Database\n",
    "cursor.execute(\"CREATE DATABASE sqladb\")\n",
    "cursor.execute(\"USE sqladb\")\n",
    "\n",
    "#Create Table with the naming convention\n",
    "cursor.execute(\"CREATE TABLE adultTable (age INT(2),workclass VARCHAR(255), fnlwgt INT(5), education VARCHAR(255), education-num INT(5), marital-status VARCHAR(255), occupation VARCHAR(255), relationship VARCHAR(255), race VARCHAR(255), sex VARCHAR(255), capital-gain INT(20), capital-loss INT(20), hours-per-week INT(20), native-country VARCHAR(255) )\", moreThan50K VARCHAR(255))\n",
    "\n",
    "#Load data to table\n",
    "table_data = data\n",
    "for row in table_data:\n",
    "  cursor.execute('INSERT INTO adultTable VALUES(\"%s\", \"%s\", \"%s\", \"%s\", \"%s\", \"%s\", \"%s\", \"%s\", \"%s\", \"%s\", \"%s\", \"%s\", \"%s\", \"%s\", \"%s\")',row)\n",
    "\n",
    "# Commit is important to reflect the changes\n",
    "db.commit()"
   ]
  },
  {
   "cell_type": "code",
   "execution_count": null,
   "metadata": {},
   "outputs": [],
   "source": [
    "# 1) Select 10 rows from table\n",
    "cursor.execute(\"SELECT * FROM adultTable LIMIT 10\")\n",
    "myresult = cursor.fetchall()\n",
    "for x in myresult:\n",
    " print(x)"
   ]
  },
  {
   "cell_type": "code",
   "execution_count": null,
   "metadata": {},
   "outputs": [],
   "source": [
    "# 2) Average hours per week for all man who are working in private sector\n",
    "cursor.execute(\"SELECT AVG(hours-per-week) average-hours-per-week FROM adultTable WHERE workclass = 'Private' \")\n",
    "myresult = cursor.fetchall()\n",
    "for x in myresult:\n",
    "print(x)"
   ]
  },
  {
   "cell_type": "code",
   "execution_count": null,
   "metadata": {},
   "outputs": [],
   "source": [
    "# 3) Frequency tables\n",
    "#    a) education\n",
    "cursor.execute(\"SELECT education , COUNT(education) frequency FROM adultTable GROUP BY education \")\n",
    "myresult = cursor.fetchall()\n",
    "for x in myresult:\n",
    "print(x)\n",
    "\n",
    "#    b) occupation\n",
    "cursor.execute(\"SELECT occupation, COUNT(occupation) frequency FROM adultTable GROUP BY occupation \")\n",
    "myresult = cursor.fetchall()\n",
    "for x in myresult:\n",
    "print(x)\n",
    "\n",
    "#    a) relationship\n",
    "cursor.execute(\"SELECT relationship, COUNT(relationship) frequency FROM adultTable GROUP BY relationship \")\n",
    "myresult = cursor.fetchall()\n",
    "for x in myresult:\n",
    "print(x)"
   ]
  },
  {
   "cell_type": "code",
   "execution_count": null,
   "metadata": {},
   "outputs": [],
   "source": [
    "# 4) Are there any people who are married, working in private sector and having a masters degree \n",
    "cursor.execute(\"SELECT IF(count > 0, 'Yes', 'No') _exist FROM ( SELECT COUNT(marital_status) count FROM adultTable WHERE marital-status IN ('Married-civ-spouse', 'Married-spouse-absent' , 'Married-AF-spouse')) alias \")\n",
    "myresult = cursor.fetchall()\n",
    "for x in myresult:\n",
    "print(x)"
   ]
  },
  {
   "cell_type": "code",
   "execution_count": null,
   "metadata": {},
   "outputs": [],
   "source": [
    "# 5) Average, minimum and maximum age group for people working in different sectors\n",
    "cursor.execute(\" SELECT workclass as sector, AVG(age) averageAge, MIN(age) minAge, MAX(age) maxAge  FROM adultTable GROUP BY workclass \")\n",
    "myresult = cursor.fetchall()\n",
    "for x in myresult:\n",
    "print(x)"
   ]
  },
  {
   "cell_type": "code",
   "execution_count": null,
   "metadata": {},
   "outputs": [],
   "source": [
    "#6) Calculate age distribution by country\n",
    "cursor.execute(\" SELECT Age FROM adultTable GROUP BY country \")\n",
    "myresult = cursor.fetchall()\n",
    "for x in myresult:\n",
    "print(x)"
   ]
  },
  {
   "cell_type": "code",
   "execution_count": null,
   "metadata": {},
   "outputs": [],
   "source": [
    "#7) Compute a new column as 'Net-Capital-Gain' from the two columns 'capital-gain' and 'capital-loss'\n",
    "cursor.execute(\" SELECT capital-gain - capital-loss as Net-Capital-Gain FROM adultTable \")\n",
    "myresult = cursor.fetchall()\n",
    "for x in myresult:\n",
    "print(x)"
   ]
  }
 ],
 "metadata": {
  "kernelspec": {
   "display_name": "Python 3",
   "language": "python",
   "name": "python3"
  },
  "language_info": {
   "codemirror_mode": {
    "name": "ipython",
    "version": 3
   },
   "file_extension": ".py",
   "mimetype": "text/x-python",
   "name": "python",
   "nbconvert_exporter": "python",
   "pygments_lexer": "ipython3",
   "version": "3.6.5"
  }
 },
 "nbformat": 4,
 "nbformat_minor": 2
}
